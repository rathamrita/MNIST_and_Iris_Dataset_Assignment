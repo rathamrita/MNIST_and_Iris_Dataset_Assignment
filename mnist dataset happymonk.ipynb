{
 "cells": [
  {
   "cell_type": "markdown",
   "metadata": {},
   "source": [
    "## Building a Basic CNN: The MNIST Dataset"
   ]
  },
  {
   "cell_type": "markdown",
   "metadata": {},
   "source": [
    "### 1. Importing Libraries and the Dataset"
   ]
  },
  {
   "cell_type": "code",
   "execution_count": 1,
   "metadata": {},
   "outputs": [],
   "source": [
    "import numpy as np\n",
    "import random\n",
    "import tensorflow as tf\n",
    "from tensorflow.keras.datasets import mnist\n",
    "from tensorflow.keras import Sequential\n",
    "from tensorflow.keras.layers import Dense, Dropout, Flatten, Conv2D, MaxPooling2D"
   ]
  },
  {
   "cell_type": "code",
   "execution_count": 2,
   "metadata": {},
   "outputs": [],
   "source": [
    "# load the dataset into train and test sets\n",
    "#Keras library has MNIST Dataset\n",
    "(x_train, y_train), (x_test, y_test) = mnist.load_data()"
   ]
  },
  {
   "cell_type": "code",
   "execution_count": 3,
   "metadata": {},
   "outputs": [
    {
     "name": "stdout",
     "output_type": "stream",
     "text": [
      "train data\n",
      "(60000, 28, 28)\n",
      "(60000,)\n",
      "\n",
      " test data\n",
      "(10000, 28, 28)\n",
      "(10000,)\n"
     ]
    }
   ],
   "source": [
    "print(\"train data\")\n",
    "print(x_train.shape)\n",
    "print(y_train.shape)\n",
    "print(\"\\n test data\")\n",
    "print(x_test.shape)\n",
    "print(y_test.shape)"
   ]
  },
  {
   "cell_type": "code",
   "execution_count": 4,
   "metadata": {},
   "outputs": [
    {
     "name": "stdout",
     "output_type": "stream",
     "text": [
      "(20000, 28, 28)\n",
      "(20000,)\n"
     ]
    }
   ],
   "source": [
    "# sample only 20k images for training\n",
    "idx = np.random.randint(x_train.shape[0], size=20000)\n",
    "x_train = x_train[idx, :]\n",
    "y_train = y_train[idx]\n",
    "print(x_train.shape)\n",
    "print(y_train.shape)"
   ]
  },
  {
   "cell_type": "markdown",
   "metadata": {},
   "source": [
    "### 2. Data Preparation"
   ]
  },
  {
   "cell_type": "code",
   "execution_count": 5,
   "metadata": {},
   "outputs": [],
   "source": [
    "# specify input dimensions of each image\n",
    "img_rows, img_cols = 28, 28\n",
    "input_shape = (img_rows, img_cols, 1)\n",
    "\n",
    "# batch size, number of classes, epochs\n",
    "batch_size = 128\n",
    "num_classes = 10\n",
    "epochs = 12"
   ]
  },
  {
   "cell_type": "code",
   "execution_count": 6,
   "metadata": {},
   "outputs": [
    {
     "name": "stdout",
     "output_type": "stream",
     "text": [
      "(20000, 28, 28, 1)\n",
      "(10000, 28, 28, 1)\n"
     ]
    }
   ],
   "source": [
    "# reshaping x_train and x_test\n",
    "x_train = x_train.reshape(x_train.shape[0], img_rows, img_cols, 1)\n",
    "x_test = x_test.reshape(x_test.shape[0], img_rows, img_cols, 1)\n",
    "print(x_train.shape)\n",
    "print(x_test.shape)"
   ]
  },
  {
   "cell_type": "code",
   "execution_count": 7,
   "metadata": {},
   "outputs": [
    {
     "name": "stdout",
     "output_type": "stream",
     "text": [
      "(20000, 10)\n"
     ]
    }
   ],
   "source": [
    "# converting class labels (from digits) to one-hot encoded vectors\n",
    "y_train = tf.keras.utils.to_categorical(y_train, num_classes)\n",
    "y_test = tf.keras.utils.to_categorical(y_test, num_classes)\n",
    "print(y_train.shape)"
   ]
  },
  {
   "cell_type": "code",
   "execution_count": 8,
   "metadata": {},
   "outputs": [],
   "source": [
    "# convert int to float\n",
    "x_train = x_train.astype('float32')\n",
    "x_test = x_test.astype('float32')\n",
    "\n",
    "# normalise\n",
    "x_train /= 255\n",
    "x_test /= 255"
   ]
  },
  {
   "cell_type": "markdown",
   "metadata": {},
   "source": [
    "### 3. Building the Model"
   ]
  },
  {
   "cell_type": "markdown",
   "metadata": {},
   "source": [
    "Here the network is built with:\n",
    "1) two convolutional layers having 32 and 64 filters respectively,\n",
    "\n",
    "2) followed by a max pooling layer,\n",
    "\n",
    "3) Flatten the output of the pooling layer to give us a long vector,\n",
    "\n",
    "4) add a fully connected Dense layer with 128 neurons, and finally\n",
    "\n",
    "5) add a softmax layer with 10 neurons"
   ]
  },
  {
   "cell_type": "code",
   "execution_count": 9,
   "metadata": {},
   "outputs": [
    {
     "name": "stdout",
     "output_type": "stream",
     "text": [
      "Model: \"sequential\"\n",
      "_________________________________________________________________\n",
      " Layer (type)                Output Shape              Param #   \n",
      "=================================================================\n",
      " conv2d (Conv2D)             (None, 26, 26, 32)        320       \n",
      "                                                                 \n",
      " conv2d_1 (Conv2D)           (None, 24, 24, 64)        18496     \n",
      "                                                                 \n",
      " max_pooling2d (MaxPooling2D  (None, 12, 12, 64)       0         \n",
      " )                                                               \n",
      "                                                                 \n",
      " dropout (Dropout)           (None, 12, 12, 64)        0         \n",
      "                                                                 \n",
      " flatten (Flatten)           (None, 9216)              0         \n",
      "                                                                 \n",
      " dense (Dense)               (None, 128)               1179776   \n",
      "                                                                 \n",
      " dropout_1 (Dropout)         (None, 128)               0         \n",
      "                                                                 \n",
      " dense_1 (Dense)             (None, 10)                1290      \n",
      "                                                                 \n",
      "=================================================================\n",
      "Total params: 1,199,882\n",
      "Trainable params: 1,199,882\n",
      "Non-trainable params: 0\n",
      "_________________________________________________________________\n"
     ]
    }
   ],
   "source": [
    "# model\n",
    "model = Sequential()\n",
    "\n",
    "# a keras convolutional layer is called Conv2D\n",
    "# help(Conv2D)\n",
    "# note that the first layer needs to be told the input shape explicitly\n",
    "\n",
    "# first conv layer\n",
    "model.add(Conv2D(32, kernel_size=(3, 3),\n",
    "                 activation='relu',\n",
    "                 input_shape=input_shape)) # input shape = (img_rows, img_cols, 1)\n",
    "\n",
    "# second conv layer\n",
    "model.add(Conv2D(64, kernel_size=(3, 3), \n",
    "                 activation='relu'))\n",
    "model.add(MaxPooling2D(pool_size=(2, 2)))\n",
    "model.add(Dropout(0.25))\n",
    "\n",
    "# flatten and put a fully connected layer\n",
    "model.add(Flatten())\n",
    "model.add(Dense(128, activation='relu')) # fully connected\n",
    "model.add(Dropout(0.5))\n",
    "\n",
    "# softmax layer\n",
    "model.add(Dense(num_classes, activation='softmax'))\n",
    "\n",
    "# model summary\n",
    "model.summary()"
   ]
  },
  {
   "cell_type": "markdown",
   "metadata": {},
   "source": [
    "### 4. Fitting and Evaluating the Model"
   ]
  },
  {
   "cell_type": "code",
   "execution_count": 14,
   "metadata": {},
   "outputs": [],
   "source": [
    "model.compile(loss=tf.keras.losses.categorical_crossentropy,\n",
    "              optimizer=tf.keras.optimizers.Adadelta(),\n",
    "              metrics=['accuracy'])"
   ]
  },
  {
   "cell_type": "code",
   "execution_count": 15,
   "metadata": {},
   "outputs": [
    {
     "name": "stdout",
     "output_type": "stream",
     "text": [
      "Epoch 1/12\n",
      "157/157 [==============================] - 30s 188ms/step - loss: 2.3057 - accuracy: 0.0972 - val_loss: 2.2987 - val_accuracy: 0.0830\n",
      "Epoch 2/12\n",
      "157/157 [==============================] - 34s 215ms/step - loss: 2.2948 - accuracy: 0.1185 - val_loss: 2.2867 - val_accuracy: 0.1502\n",
      "Epoch 3/12\n",
      "157/157 [==============================] - 33s 210ms/step - loss: 2.2838 - accuracy: 0.1459 - val_loss: 2.2745 - val_accuracy: 0.2389\n",
      "Epoch 4/12\n",
      "157/157 [==============================] - 33s 211ms/step - loss: 2.2724 - accuracy: 0.1787 - val_loss: 2.2615 - val_accuracy: 0.3398\n",
      "Epoch 5/12\n",
      "157/157 [==============================] - 34s 218ms/step - loss: 2.2601 - accuracy: 0.2118 - val_loss: 2.2475 - val_accuracy: 0.4397\n",
      "Epoch 6/12\n",
      "157/157 [==============================] - 34s 216ms/step - loss: 2.2468 - accuracy: 0.2512 - val_loss: 2.2320 - val_accuracy: 0.5281\n",
      "Epoch 7/12\n",
      "157/157 [==============================] - 33s 213ms/step - loss: 2.2319 - accuracy: 0.2867 - val_loss: 2.2147 - val_accuracy: 0.5893\n",
      "Epoch 8/12\n",
      "157/157 [==============================] - 33s 210ms/step - loss: 2.2160 - accuracy: 0.3133 - val_loss: 2.1950 - val_accuracy: 0.6272\n",
      "Epoch 9/12\n",
      "157/157 [==============================] - 35s 224ms/step - loss: 2.1956 - accuracy: 0.3652 - val_loss: 2.1726 - val_accuracy: 0.6572\n",
      "Epoch 10/12\n",
      "157/157 [==============================] - 33s 211ms/step - loss: 2.1747 - accuracy: 0.3883 - val_loss: 2.1473 - val_accuracy: 0.6762\n",
      "Epoch 11/12\n",
      "157/157 [==============================] - 33s 209ms/step - loss: 2.1495 - accuracy: 0.4200 - val_loss: 2.1191 - val_accuracy: 0.6875\n",
      "Epoch 12/12\n",
      "157/157 [==============================] - 34s 218ms/step - loss: 2.1234 - accuracy: 0.4432 - val_loss: 2.0877 - val_accuracy: 0.6991\n"
     ]
    },
    {
     "data": {
      "text/plain": [
       "<keras.callbacks.History at 0x22ec5d522e0>"
      ]
     },
     "execution_count": 15,
     "metadata": {},
     "output_type": "execute_result"
    }
   ],
   "source": [
    "model.fit(x_train, y_train,\n",
    "          batch_size=batch_size,\n",
    "          epochs=epochs,\n",
    "          verbose=1,\n",
    "          validation_data=(x_test, y_test))"
   ]
  },
  {
   "cell_type": "markdown",
   "metadata": {},
   "source": [
    "### Model Interpretation"
   ]
  },
  {
   "cell_type": "code",
   "execution_count": 16,
   "metadata": {},
   "outputs": [
    {
     "name": "stdout",
     "output_type": "stream",
     "text": [
      "313/313 [==============================] - 3s 9ms/step - loss: 2.0877 - accuracy: 0.6991\n"
     ]
    },
    {
     "data": {
      "text/plain": [
       "[2.0877015590667725, 0.6991000175476074]"
      ]
     },
     "execution_count": 16,
     "metadata": {},
     "output_type": "execute_result"
    }
   ],
   "source": [
    "# evaluate the model on test data\n",
    "model.evaluate(x_test, y_test)"
   ]
  },
  {
   "cell_type": "code",
   "execution_count": 17,
   "metadata": {},
   "outputs": [
    {
     "name": "stdout",
     "output_type": "stream",
     "text": [
      "Epoch 1/12\n",
      "157/157 [==============================] - 29s 183ms/step - loss: 2.0925 - accuracy: 0.4642 - val_loss: 2.0526 - val_accuracy: 0.7111\n",
      "Epoch 2/12\n",
      "157/157 [==============================] - 31s 196ms/step - loss: 2.0586 - accuracy: 0.4866 - val_loss: 2.0134 - val_accuracy: 0.7200\n",
      "Epoch 3/12\n",
      "157/157 [==============================] - 33s 213ms/step - loss: 2.0207 - accuracy: 0.5074 - val_loss: 1.9693 - val_accuracy: 0.7319\n",
      "Epoch 4/12\n",
      "157/157 [==============================] - 33s 213ms/step - loss: 1.9800 - accuracy: 0.5163 - val_loss: 1.9203 - val_accuracy: 0.7413\n",
      "Epoch 5/12\n",
      "157/157 [==============================] - 33s 208ms/step - loss: 1.9338 - accuracy: 0.5331 - val_loss: 1.8657 - val_accuracy: 0.7505\n",
      "Epoch 6/12\n",
      "157/157 [==============================] - 33s 210ms/step - loss: 1.8826 - accuracy: 0.5544 - val_loss: 1.8055 - val_accuracy: 0.7593\n",
      "Epoch 7/12\n",
      "157/157 [==============================] - 34s 218ms/step - loss: 1.8262 - accuracy: 0.5675 - val_loss: 1.7400 - val_accuracy: 0.7676\n",
      "Epoch 8/12\n",
      "157/157 [==============================] - 33s 208ms/step - loss: 1.7656 - accuracy: 0.5756 - val_loss: 1.6696 - val_accuracy: 0.7763\n",
      "Epoch 9/12\n",
      "157/157 [==============================] - 33s 213ms/step - loss: 1.7066 - accuracy: 0.5896 - val_loss: 1.5955 - val_accuracy: 0.7856\n",
      "Epoch 10/12\n",
      "157/157 [==============================] - 33s 207ms/step - loss: 1.6377 - accuracy: 0.6021 - val_loss: 1.5188 - val_accuracy: 0.7926\n",
      "Epoch 11/12\n",
      "157/157 [==============================] - 33s 208ms/step - loss: 1.5748 - accuracy: 0.6101 - val_loss: 1.4411 - val_accuracy: 0.7995\n",
      "Epoch 12/12\n",
      "157/157 [==============================] - 34s 220ms/step - loss: 1.5128 - accuracy: 0.6194 - val_loss: 1.3647 - val_accuracy: 0.8044\n"
     ]
    },
    {
     "data": {
      "image/png": "[encoded data removed]",
      "text/plain": [
       "<Figure size 432x288 with 1 Axes>"
      ]
     },
     "metadata": {
      "needs_background": "light"
     },
     "output_type": "display_data"
    }
   ],
   "source": [
    "import matplotlib.pyplot as plt\n",
    "\n",
    "history = model.fit(x_train, y_train, epochs=12, batch_size=128, validation_data=(x_test, y_test), verbose=1)\n",
    "# Get the accuracy values from the training history\n",
    "accuracy = history.history['accuracy']\n",
    "val_accuracy = history.history['val_accuracy']\n",
    "\n",
    "# Get the number of epochs\n",
    "epochs = range(1, len(accuracy) + 1)\n",
    "\n",
    "# Plot the accuracy over epochs\n",
    "plt.plot(epochs, accuracy, 'b', label='Training Accuracy')\n",
    "plt.plot(epochs, val_accuracy, 'r', label='Validation Accuracy')\n",
    "plt.title('Model Accuracy')\n",
    "plt.xlabel('Epoch')\n",
    "plt.ylabel('Accuracy')\n",
    "plt.legend()\n",
    "plt.show()"
   ]
  },
  {
   "cell_type": "code",
   "execution_count": 20,
   "metadata": {},
   "outputs": [
    {
     "data": {
      "image/png": "[encoded data removed]",
      "text/plain": [
       "<Figure size 432x288 with 1 Axes>"
      ]
     },
     "metadata": {
      "needs_background": "light"
     },
     "output_type": "display_data"
    }
   ],
   "source": [
    "# Get the accuracy values from the training history\n",
    "loss = history.history['loss']\n",
    "val_loss = history.history['val_loss']\n",
    "\n",
    "# Get the number of epochs\n",
    "epochs = range(1, len(loss) + 1)\n",
    "\n",
    "plt.plot(epochs, loss, 'b', label='Training Loss')\n",
    "plt.plot(epochs, val_loss, 'r', label='Validation Loss')\n",
    "plt.title('Loss Function vs epoch')\n",
    "plt.xlabel('Epoch')\n",
    "plt.ylabel('loss')\n",
    "plt.legend()\n",
    "plt.show()"
   ]
  },
  {
   "cell_type": "code",
   "execution_count": 22,
   "metadata": {},
   "outputs": [
    {
     "data": {
      "image/png": "[encoded data removed]",
      "text/plain": [
       "<Figure size 432x288 with 1 Axes>"
      ]
     },
     "metadata": {
      "needs_background": "light"
     },
     "output_type": "display_data"
    }
   ],
   "source": [
    "from sklearn.metrics import precision_score\n",
    "predicted_labels = np.ones_like(y_test) * 7\n",
    "precision_per_class = precision_score(y_test, predicted_labels, average=None)\n",
    "class_labels = [str(i) for i in range(10)]\n",
    "plt.bar(class_labels, precision_per_class)\n",
    "plt.xlabel('Class')\n",
    "plt.ylabel('Precision')\n",
    "plt.title('Precision for each class in MNIST')\n",
    "plt.show()"
   ]
  },
  {
   "cell_type": "code",
   "execution_count": 23,
   "metadata": {},
   "outputs": [
    {
     "data": {
      "image/png": "[encoded data removed]",
      "text/plain": [
       "<Figure size 432x288 with 1 Axes>"
      ]
     },
     "metadata": {
      "needs_background": "light"
     },
     "output_type": "display_data"
    }
   ],
   "source": [
    "from sklearn.metrics import recall_score\n",
    "predicted_labels = np.ones_like(y_test) * 7\n",
    "recall_per_class = recall_score(y_test, predicted_labels, average=None)\n",
    "class_labels = [str(i) for i in range(10)]\n",
    "plt.bar(class_labels, recall_per_class)\n",
    "plt.xlabel('Class')\n",
    "plt.ylabel('Recall')\n",
    "plt.title('Recall for each class in MNIST')\n",
    "plt.show()"
   ]
  },
  {
   "cell_type": "code",
   "execution_count": 24,
   "metadata": {},
   "outputs": [
    {
     "data": {
      "image/png": "[encoded data removed]",
      "text/plain": [
       "<Figure size 432x288 with 1 Axes>"
      ]
     },
     "metadata": {
      "needs_background": "light"
     },
     "output_type": "display_data"
    }
   ],
   "source": [
    "from sklearn.metrics import f1_score\n",
    "predicted_labels = np.ones_like(y_test) * 7\n",
    "f1_per_class = f1_score(y_test, predicted_labels, average=None)\n",
    "class_labels = [str(i) for i in range(10)]\n",
    "plt.bar(class_labels, f1_per_class)\n",
    "plt.xlabel('Class')\n",
    "plt.ylabel('F1 Score')\n",
    "plt.title('F1 Score for each class in MNIST')\n",
    "plt.show()"
   ]
  },
  {
   "cell_type": "markdown",
   "metadata": {},
   "source": [
    "### Model Interpretation:\n",
    "- The train accuracy represents how well the model performs on the training data it was trained on. In this case, the value of 0.6194 indicates that the model correctly predicts the class of approximately 61.94% of the samples in the training dataset.The test accuracy represents how well the model generalizes to new, unseen data that it has not been exposed to during training. It is computed on a separate test dataset that the model has not seen during training. In this case, the value of 0.8044 (or 80.44%) indicates that the model correctly predicts the class of approximately 80.44% of the samples in the test dataset.The train accuracy is lower than the test accuracy, which suggests that the model is generalizing reasonably well to new data. This is a positive sign as it indicates that the model has learned to capture the underlying patterns in the data and can make accurate predictions on new samples.\n",
    "\n",
    "\n",
    "- Training Loss:Training loss is a metric that represents how well the model is fitting the training data. During training, the model's parameters (weights and biases) are adjusted to minimize this loss. The training loss ideally should decrease as the model learns from the data and improves its ability to make accurate predictions on the training set. A decreasing training loss indicates that the model is learning from the data and making progress in minimizing prediction errors on the training set. Validation Loss: Validation loss is a metric that represents how well the model generalizes to new, unseen data.As training progresses, the training loss is continuing to decrease, but the validation loss starts to level off. This is because the model is becoming overly specialized to the training data (overfitting), and its ability to generalize to new data decreases.\n",
    "\n",
    "\n",
    "- A precision score of 0.98 for digit 0 indicates that when the model predicts a sample as digit 0, it is correct approximately 98% of the time. A precision score of 0.18 for digit 1 suggests that the model has a relatively low accuracy in correctly predicting instances of digit 1. A precision score of 0.11 for digit 2 indicates that the model's accuracy in predicting instances of digit 2 is also low. It is correctly identifying digit 2 in only about 11% of the cases. A precision score of 0.99 for digit 3 suggests that the model is highly accurate in correctly predicting instances of digit 3.  precision score of 0.97 for digit 4 indicates that the model is accurate in correctly predicting instances of digit 4 in about 97% of the cases.  precision score of 0.97 for digit 4 indicates that the model is accurate in correctly predicting instances of digit 4 in about 97% of the cases. A precision score of 0.90 for digit 5 suggests that the model is quite accurate in identifying instances of digit 5. A precision score of 0.97 for digit 6 indicates that the model is accurate in correctly predicting instances of digit 6 in about 97% of the cases. A precision score of 0.10 for digit 7 suggests that the model's accuracy in correctly predicting instances of digit 7 is low. It means that the model is making many false positive predictions for digit 7.A precision score of 0.99 for digit 8 indicates that the model is highly accurate in correctly predicting instances of digit 8. It has a high true positive rate for digit 8 predictions.A precision score of 0.10 for digit 9 suggests that the model's accuracy in correctly predicting instances of digit 9 is low. It means that the model is making many false positive predictions for digit 9.\n",
    "\n",
    "\n",
    "- If the recall score for all the digits is 1, it means that the model's performance is perfect in terms of correctly identifying all instances of each digit in a multi-class classification problem.\n",
    "\n",
    "\n",
    "- A low F1 score of 0.176 for digit 0 indicates that the model's performance in correctly identifying instances of digit 0 is relatively poor. A low F1 score of 0.200 for digit 1 suggests that the model's performance in correctly identifying instances of digit 1 is also relatively poor. A low F1 score of 0.178 for digit 2 indicates that the model's performance in correctly identifying instances of digit 2 is relatively poor. A low F1 score of 0.177 for digit 3 suggests that the model's performance in correctly identifying instances of digit 3 is relatively poor. Same for remaining digits 4,5,6,7,8 and 9."
   ]
  },
  {
   "cell_type": "code",
   "execution_count": null,
   "metadata": {},
   "outputs": [],
   "source": []
  }
 ],
 "metadata": {
  "kernelspec": {
   "display_name": "Python 3",
   "language": "python",
   "name": "python3"
  },
  "language_info": {
   "codemirror_mode": {
    "name": "ipython",
    "version": 3
   },
   "file_extension": ".py",
   "mimetype": "text/x-python",
   "name": "python",
   "nbconvert_exporter": "python",
   "pygments_lexer": "ipython3",
   "version": "3.8.5"
  }
 },
 "nbformat": 4,
 "nbformat_minor": 4
}
